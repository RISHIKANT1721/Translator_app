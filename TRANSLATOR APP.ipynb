{
 "cells": [
  {
   "cell_type": "markdown",
   "id": "b0585b6d",
   "metadata": {},
   "source": [
    "# TRANSLATOR_APP"
   ]
  },
  {
   "cell_type": "code",
   "execution_count": null,
   "id": "ee401d11",
   "metadata": {},
   "outputs": [],
   "source": [
    "from tkinter import *\n",
    "from translate import Translator\n",
    "\n",
    "Screen = Tk()\n",
    "Screen.title(\"Translator App\")\n",
    " \n",
    "InputLanguageChoice = StringVar()\n",
    "TranslateLanguageChoice = StringVar()\n",
    "\n",
    "LanguageChoices = ('Spanish')\n",
    "InputLanguageChoice.set('English')\n",
    "TranslateLanguageChoice.set('Spanish')\n",
    "\n",
    "def Translate():\n",
    "    translator = Translator(from_lang= InputLanguageChoice.get(),to_lang=TranslateLanguageChoice.get())\n",
    "    Translation = translator.translate(TextVar.get())\n",
    "    OutputVar.set(Translation)\n",
    "    \n",
    "\n",
    "InputLanguageChoiceMenu = OptionMenu(Screen,InputLanguageChoice,*LanguageChoices)\n",
    "Label(Screen,text=\"Translate\").grid(row=0,column=1)\n",
    "InputLanguageChoiceMenu.grid(row=1,column=1)\n",
    " \n",
    "\n",
    "NewLanguageChoiceMenu = OptionMenu(Screen,TranslateLanguageChoice,*LanguageChoices)\n",
    "Label(Screen,text=\"Translated Language\").grid(row=0,column=2)\n",
    "NewLanguageChoiceMenu.grid(row=1,column=2)\n",
    "\n",
    "Label(Screen,text=\"Enter Text\").grid(row=2,column =0)\n",
    "TextVar = StringVar()\n",
    "TextBox = Entry(Screen,textvariable=TextVar).grid(row=2,column = 1)\n",
    " \n",
    "Label(Screen,text=\"Output Text\").grid(row=2,column =2)\n",
    "OutputVar = StringVar()\n",
    "TextBox = Entry(Screen,textvariable=OutputVar).grid(row=2,column = 3)\n",
    " \n",
    "\n",
    "B = Button(Screen,text=\"Translate\",command=Translate, relief = GROOVE).grid(row=3,column=1,columnspan = 3)\n",
    " \n",
    "mainloop()"
   ]
  },
  {
   "cell_type": "code",
   "execution_count": null,
   "id": "4ba40fc1",
   "metadata": {},
   "outputs": [],
   "source": []
  },
  {
   "cell_type": "code",
   "execution_count": null,
   "id": "f22e0139",
   "metadata": {},
   "outputs": [],
   "source": []
  }
 ],
 "metadata": {
  "kernelspec": {
   "display_name": "Python 3 (ipykernel)",
   "language": "python",
   "name": "python3"
  },
  "language_info": {
   "codemirror_mode": {
    "name": "ipython",
    "version": 3
   },
   "file_extension": ".py",
   "mimetype": "text/x-python",
   "name": "python",
   "nbconvert_exporter": "python",
   "pygments_lexer": "ipython3",
   "version": "3.11.4"
  }
 },
 "nbformat": 4,
 "nbformat_minor": 5
}
